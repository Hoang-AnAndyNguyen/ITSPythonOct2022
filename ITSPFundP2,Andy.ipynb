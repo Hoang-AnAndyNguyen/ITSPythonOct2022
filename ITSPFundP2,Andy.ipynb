{
 "cells": [
  {
   "cell_type": "markdown",
   "metadata": {},
   "source": [
    "## Introduction\n",
    "Welcome to the workshop **Python Fundamentals**, hosted by ITS - Research Services at the University of Iowa.\n",
    "\n",
    "Instructor: Giang Rudderham\n",
    "\n",
    "This workshop focuses on the **basic** concepts and features of Python that will serve as building blocks for data analysis tasks.\n",
    "\n",
    "This notebook will cover **day 2 and part of day 3** of the workshop.\n",
    "\n",
    "In this notebook we will cover:\n",
    "* Conditional statements\n",
    "* Defining functions\n",
    "* More about strings\n",
    "* String methods\n",
    "* Lists\n",
    "* Download notebooks\n",
    "* Technical notes\n",
    "\n",
    "TESTING\n"
   ]
  },
  {
   "cell_type": "markdown",
   "metadata": {},
   "source": [
    "## Conditional statements"
   ]
  },
  {
   "cell_type": "markdown",
   "metadata": {},
   "source": [
    "**Booleans** are very useful when used together with **conditional statements**: `if`, `elif`, and `else`."
   ]
  },
  {
   "cell_type": "markdown",
   "metadata": {},
   "source": [
    "For example, suppose you are working with survey data that include a variable about the respondents' sex assigned at birth. *(Note that sex assigned at birth is often a different variable than gender.)*\n",
    "\n",
    "It's common for sex to be coded as numeric values following a scheme such as:\n",
    "\n",
    "    Male -> coded as 0\n",
    "    Female -> coded as 1\n",
    "    Respondents refused to disclose sex during the survey -> coded as 9\n",
    "\n",
    "\n",
    "In the example below, we create a variable called `sex_str` to correspond with the numeric variable `sex`. "
   ]
  },
  {
   "cell_type": "code",
   "execution_count": null,
   "metadata": {
    "collapsed": true
   },
   "outputs": [],
   "source": [
    "sex = 0\n",
    "\n",
    "if sex == 0:\n",
    "    sex_str = \"Male\"\n",
    "    \n",
    "# see what sex_str is, given that sex = 0 \n",
    "print(sex_str)"
   ]
  },
  {
   "cell_type": "markdown",
   "metadata": {},
   "source": [
    "Some observations about an `if` statement:\n",
    "* Notice the `:` after the `if` statement. This is required syntax.\n",
    "* The body of the code inside the `if` statement is indented. It's standard to use 4 spaces. Jupyter Notebook indents automatically for you."
   ]
  },
  {
   "cell_type": "markdown",
   "metadata": {},
   "source": [
    "Use `elif` and `else` to check all scenarios:"
   ]
  },
  {
   "cell_type": "code",
   "execution_count": null,
   "metadata": {
    "collapsed": true
   },
   "outputs": [],
   "source": [
    "sex = 0\n",
    "\n",
    "if sex == 0:\n",
    "    sex_str = \"Male\"\n",
    "elif sex == 1:\n",
    "    sex_str = \"Female\"\n",
    "elif sex == 9:\n",
    "    sex_str = \"Refused\"\n",
    "else:\n",
    "    sex_str = \"Missing\"\n",
    "\n",
    "# see what sex_str is, given that sex = 0 \n",
    "print(sex_str)"
   ]
  },
  {
   "cell_type": "markdown",
   "metadata": {},
   "source": [
    "In the block of conditional statements in the example above, each `if`, `elif` and `else` statement was checked, starting from the the top `if` statement. If the condition is true, the code inside the statement gets executed. Otherwise move down to the next statement.\n",
    "\n",
    "At the end, all remaining cases get put in the `else` category.\n",
    "\n",
    "`elif` is short for \"else if\". You can include as many `elif` statements as you want. It's optional to include `elif` and `else` in a block of conditional statements. Only the first statement, `if`, is required.\n",
    "\n",
    "Similarly to the `if` statement:\n",
    "* Notice the `:` after each `elif` and `else` statement. This is required syntax.\n",
    "* The code inside each `elif` and `else` statement is indented. It's standard to use 4 spaces. Jupyter Notebook indents automatically for you."
   ]
  },
  {
   "cell_type": "markdown",
   "metadata": {},
   "source": [
    "## Defining functions"
   ]
  },
  {
   "cell_type": "markdown",
   "metadata": {},
   "source": [
    "In the last lesson, we learned several built-in functions such as `type()`, `int()`, `float()`, `min()`, `max()`, and `abs()`.\n",
    "\n",
    "We can also write our own functions in Python. "
   ]
  },
  {
   "cell_type": "markdown",
   "metadata": {},
   "source": [
    "Conditional statements become handy when we want to write our own functions. For example, continue with the example from the above section. Suppose you are working with survey data where sex is coded as numeric values following a scheme such as:\n",
    "\n",
    "    Male -> coded as 0\n",
    "    Female -> coded as 1\n",
    "    Respondents refused to disclose sex during the survey -> coded as 9\n",
    "    \n",
    "*(Note that sex assigned at birth is often a different variable than gender.)*\n",
    "\n",
    "In the example below, we create a function called `sex_to_str`, which returns the string that corresponds with a numeric value of sex. "
   ]
  },
  {
   "cell_type": "code",
   "execution_count": null,
   "metadata": {
    "collapsed": true
   },
   "outputs": [],
   "source": [
    "def sex_to_str(x):\n",
    "    if x == 0:\n",
    "        return \"Male\"\n",
    "    elif x == 1:\n",
    "        return \"Female\"\n",
    "    elif x == 9:\n",
    "        return \"Refused\"\n",
    "    else:\n",
    "        return \"Missing\"\n",
    " \n",
    "# Test the function with a few examples\n",
    "print(sex_to_str(0))\n",
    "print(sex_to_str(1))\n",
    "print(sex_to_str(9))\n",
    "print(sex_to_str(-12))"
   ]
  },
  {
   "cell_type": "markdown",
   "metadata": {},
   "source": [
    "The function takes an argument, `x`, which is a numeric code for sex. It returns a string for the numeric code.\n",
    "\n",
    "Note the following about the syntax:\n",
    "* To define a function, we start with the keyword `def`, give the function name, and then specify arguments (inputs to the functions) inside the parentheses.\n",
    "* The `def`statement ends with a `:`.\n",
    "* The body of code that follows the `:` is indented.\n",
    "* If we want the function to return a value, we use the `return` keyword."
   ]
  },
  {
   "cell_type": "markdown",
   "metadata": {},
   "source": [
    "When we tested the function, we nested the `sex_to_str()` function inside the `print()` function. Python evaluates from the inside out, so `sex_to_str(0)` gets evaluated first, which returns `\"Male\"`. This value then gets passed to the `print()` function and gets printed out."
   ]
  },
  {
   "cell_type": "markdown",
   "metadata": {},
   "source": [
    "There are a lot more to learn about writing your own functions. For more information, see this section in the official Python tutorial: https://docs.python.org/3/tutorial/controlflow.html#defining-functions"
   ]
  },
  {
   "cell_type": "markdown",
   "metadata": {},
   "source": [
    "## More about strings"
   ]
  },
  {
   "cell_type": "markdown",
   "metadata": {},
   "source": [
    "In the last lesson, we learned to create a string in Python, use `\\` to escape quotes in strings, use `+` to concatenate strings, and use `*` to repeat strings.\n",
    "\n",
    "Today we will learn a few more things we can do with strings.\n",
    "\n",
    "**Count the number of characters in a string**\n",
    "\n",
    "The built-in function `len()` returns the length of an object. It is very useful and used frequently."
   ]
  },
  {
   "cell_type": "code",
   "execution_count": null,
   "metadata": {
    "collapsed": true
   },
   "outputs": [],
   "source": [
    "word = \"Python\"\n",
    "len(word)"
   ]
  },
  {
   "cell_type": "markdown",
   "metadata": {},
   "source": [
    "**Indexing** \n",
    "\n",
    "We can extract an individual character from strings."
   ]
  },
  {
   "cell_type": "code",
   "execution_count": null,
   "metadata": {
    "collapsed": true
   },
   "outputs": [],
   "source": [
    "word = \"Python\"\n",
    "word[0]"
   ]
  },
  {
   "cell_type": "code",
   "execution_count": null,
   "metadata": {
    "collapsed": true
   },
   "outputs": [],
   "source": [
    "word = \"Python\"\n",
    "print(word[0])\n",
    "print(word[1])\n",
    "print(word[5])"
   ]
  },
  {
   "cell_type": "markdown",
   "metadata": {},
   "source": [
    "Note that the first character has index 0.\n",
    "\n",
    "Index -1 means the last character. -2 means second-to-last character, and so on."
   ]
  },
  {
   "cell_type": "code",
   "execution_count": null,
   "metadata": {
    "collapsed": true
   },
   "outputs": [],
   "source": [
    "print(word[-1])\n",
    "print(word[-2])\n",
    "print(word[-6])"
   ]
  },
  {
   "cell_type": "markdown",
   "metadata": {},
   "source": [
    "**Slicing**\n",
    "\n",
    "While indexing is used to obtain individual characters, slicing allows you to obtain substrings."
   ]
  },
  {
   "cell_type": "code",
   "execution_count": null,
   "metadata": {
    "collapsed": true
   },
   "outputs": [],
   "source": [
    "# get letters from position 0 (included) to 2 (excluded)\n",
    "word = \"Python\"\n",
    "word[0:2]"
   ]
  },
  {
   "cell_type": "code",
   "execution_count": null,
   "metadata": {
    "collapsed": true
   },
   "outputs": [],
   "source": [
    "# get letters from position 2 (included) to 6 (excluded)\n",
    "word = \"Python\"\n",
    "word[2:6]"
   ]
  },
  {
   "cell_type": "markdown",
   "metadata": {},
   "source": [
    "We can omit either the starting point or the ending point. Omitting the starting point means starting at index 0. Omitting the ending point means going to the end of the string."
   ]
  },
  {
   "cell_type": "code",
   "execution_count": null,
   "metadata": {
    "collapsed": true
   },
   "outputs": [],
   "source": [
    "# from the beginning of the string to position 2 (excluded)\n",
    "print(word[:2])\n",
    "\n",
    "# from position 2 (included) to to the end of the string\n",
    "print(word[2:])"
   ]
  },
  {
   "cell_type": "markdown",
   "metadata": {},
   "source": [
    "We can also use negative index."
   ]
  },
  {
   "cell_type": "code",
   "execution_count": null,
   "metadata": {
    "collapsed": true
   },
   "outputs": [],
   "source": [
    "# from the third-to-last character to the end of the string\n",
    "print(word[-3:])"
   ]
  },
  {
   "cell_type": "markdown",
   "metadata": {},
   "source": [
    "**Strings in Python are immutable**. We can't modify them. For example, **the code below will return an error**."
   ]
  },
  {
   "cell_type": "code",
   "execution_count": null,
   "metadata": {
    "collapsed": true,
    "scrolled": true
   },
   "outputs": [],
   "source": [
    "word = \"Python\"\n",
    "word[5] = \"j\""
   ]
  },
  {
   "cell_type": "markdown",
   "metadata": {},
   "source": [
    "### String methods"
   ]
  },
  {
   "cell_type": "markdown",
   "metadata": {},
   "source": [
    "Strings in Python have built-in **methods** (functions) that return different transformations of the string. Here are a few common and useful string methods."
   ]
  },
  {
   "cell_type": "markdown",
   "metadata": {},
   "source": [
    "* Convert a string to all upper case."
   ]
  },
  {
   "cell_type": "code",
   "execution_count": null,
   "metadata": {
    "collapsed": true
   },
   "outputs": [],
   "source": [
    "mystr = \"Hackberry trees are native to Iowa.\"\n",
    "mystr.upper()"
   ]
  },
  {
   "cell_type": "markdown",
   "metadata": {},
   "source": [
    "Note the following about syntax:\n",
    "1. we first call the variable `mystr`, then a `.`, then the `upper()` method follows .\n",
    "2. we don't need to give any argument (input) to the `upper()` method. Each string method might require 0 or more arguments. **For a list of string methods and the required syntax, see https://docs.python.org/3/library/stdtypes.html#string-methods**"
   ]
  },
  {
   "cell_type": "markdown",
   "metadata": {},
   "source": [
    "* Convert a string to all lower case."
   ]
  },
  {
   "cell_type": "code",
   "execution_count": null,
   "metadata": {
    "collapsed": true
   },
   "outputs": [],
   "source": [
    "mystr = \"HACKBERRY TREES ARE NATIVE TO IOWA.\"\n",
    "mystr.lower()"
   ]
  },
  {
   "cell_type": "markdown",
   "metadata": {},
   "source": [
    "* Search the string for a specified value and returns the position of where it was found. If there are multiple matches, it only returns the position of the first one. If no match, it returns \"-1\"."
   ]
  },
  {
   "cell_type": "code",
   "execution_count": null,
   "metadata": {
    "collapsed": true
   },
   "outputs": [],
   "source": [
    "mystr = \"Hackberry trees are native to Iowa.\"\n",
    "mystr.find(\"berry\")"
   ]
  },
  {
   "cell_type": "code",
   "execution_count": null,
   "metadata": {
    "collapsed": true
   },
   "outputs": [],
   "source": [
    "mystr = \"Hackberry trees are native to Iowa.\"\n",
    "mystr.find(\"blueberry\")"
   ]
  },
  {
   "cell_type": "markdown",
   "metadata": {},
   "source": [
    "**Note**: String methods return new values but do *not* change the original string. You have to overwrite (assign the new value back to the original variable) if you want to make changes to your string."
   ]
  },
  {
   "cell_type": "code",
   "execution_count": null,
   "metadata": {
    "collapsed": true
   },
   "outputs": [],
   "source": [
    "mystr = \"Hackberry trees are native to Iowa.\"\n",
    "print(mystr.upper())\n",
    "\n",
    "# mystr hasn't been changed\n",
    "print(mystr)"
   ]
  },
  {
   "cell_type": "code",
   "execution_count": null,
   "metadata": {
    "collapsed": true
   },
   "outputs": [],
   "source": [
    "mystr = \"Hackberry trees are native to Iowa.\"\n",
    "\n",
    "# overwrite if want to change mystr\n",
    "mystr = mystr.upper()\n",
    "print(mystr)"
   ]
  },
  {
   "cell_type": "markdown",
   "metadata": {},
   "source": [
    "### Your turn"
   ]
  },
  {
   "cell_type": "markdown",
   "metadata": {},
   "source": [
    "1. The string method `index()` is similar to the method `find()`, but it returns an error if a substring is not found. Run the code below."
   ]
  },
  {
   "cell_type": "code",
   "execution_count": null,
   "metadata": {
    "collapsed": true
   },
   "outputs": [],
   "source": [
    "mystr = \"Hackberry trees are native to Iowa.\"\n",
    "mystr.index(\"berry\")"
   ]
  },
  {
   "cell_type": "markdown",
   "metadata": {},
   "source": [
    "Now use the `index()` method to find the substring `blueberry` in `mystr`. **The code should return an error.**"
   ]
  },
  {
   "cell_type": "code",
   "execution_count": null,
   "metadata": {
    "collapsed": true
   },
   "outputs": [],
   "source": [
    "# Your answer here\n"
   ]
  },
  {
   "cell_type": "markdown",
   "metadata": {},
   "source": [
    "2. The method `startswith()` returns `True` if the string starts with a specified substring. Otherwise it returns `False`.\n",
    "Run the following code."
   ]
  },
  {
   "cell_type": "code",
   "execution_count": null,
   "metadata": {
    "collapsed": true
   },
   "outputs": [],
   "source": [
    "mystr = \"Hackberry trees are native to Iowa.\"\n",
    "mystr.startswith(\"berry\")"
   ]
  },
  {
   "cell_type": "markdown",
   "metadata": {},
   "source": [
    "Modify the code with the `startswith()` method so that it returns `True`."
   ]
  },
  {
   "cell_type": "code",
   "execution_count": null,
   "metadata": {
    "collapsed": true
   },
   "outputs": [],
   "source": [
    "# Your answer here\n"
   ]
  },
  {
   "cell_type": "markdown",
   "metadata": {},
   "source": [
    "3. A similar method is `endswith()`. The method `endswith()` returns `True` if the string ends with a specified substring. Otherwise it returns `False`.\n",
    "\n",
    "* Create a variable called `mystr` and assign to it the string `Harry - yer a wizard.`\n",
    "* Write code with `endswith()` to check if `mystr` ends in `wizard` (no period)."
   ]
  },
  {
   "cell_type": "code",
   "execution_count": null,
   "metadata": {
    "collapsed": true
   },
   "outputs": [],
   "source": [
    "# Your answer here\n"
   ]
  },
  {
   "cell_type": "markdown",
   "metadata": {},
   "source": [
    "Modify the code with `endswith()` so that it returns `True`."
   ]
  },
  {
   "cell_type": "code",
   "execution_count": null,
   "metadata": {
    "collapsed": true
   },
   "outputs": [],
   "source": [
    "# Your answer here\n"
   ]
  },
  {
   "cell_type": "markdown",
   "metadata": {},
   "source": [
    "4. The string method `split()` splits a string into a **list**. (We will learn about lists in the next section.) Run the code below."
   ]
  },
  {
   "cell_type": "code",
   "execution_count": null,
   "metadata": {
    "collapsed": true
   },
   "outputs": [],
   "source": [
    "mystr = \"Harry - yer a wizard.\"\n",
    "mystr.split()"
   ]
  },
  {
   "cell_type": "markdown",
   "metadata": {},
   "source": [
    "As you can see, whitespace is the separator by default. We can also specify a different separator. Run the code below."
   ]
  },
  {
   "cell_type": "code",
   "execution_count": null,
   "metadata": {
    "collapsed": true
   },
   "outputs": [],
   "source": [
    "mystr = \"Harry - yer a wizard.\"\n",
    "mystr.split(\"-\")"
   ]
  },
  {
   "cell_type": "markdown",
   "metadata": {},
   "source": [
    "Now the returned list has only 2 strings, instead of 5 as before."
   ]
  },
  {
   "cell_type": "markdown",
   "metadata": {},
   "source": [
    "Your turn:\n",
    "* Create a variable called `my_date_str` and assign to it the string `2021-09-16`.\n",
    "* Use the `split()` method to split `my_date_str` at `-`."
   ]
  },
  {
   "cell_type": "code",
   "execution_count": null,
   "metadata": {
    "collapsed": true
   },
   "outputs": [],
   "source": [
    "# Your answer here\n"
   ]
  },
  {
   "cell_type": "markdown",
   "metadata": {},
   "source": [
    "We can join the elements in a list into a string with the `join()` method. For example:"
   ]
  },
  {
   "cell_type": "code",
   "execution_count": null,
   "metadata": {
    "collapsed": true
   },
   "outputs": [],
   "source": [
    "\"/\".join([\"2021\", \"09\", \"16\"])"
   ]
  },
  {
   "cell_type": "markdown",
   "metadata": {},
   "source": [
    "## Lists"
   ]
  },
  {
   "cell_type": "markdown",
   "metadata": {},
   "source": [
    "Lists are used to group together several values. The items in the list can be of the same or different types."
   ]
  },
  {
   "cell_type": "code",
   "execution_count": null,
   "metadata": {
    "collapsed": true
   },
   "outputs": [],
   "source": [
    "odds = [1, 3, 5, 7]\n",
    "odds"
   ]
  },
  {
   "cell_type": "code",
   "execution_count": null,
   "metadata": {
    "collapsed": true
   },
   "outputs": [],
   "source": [
    "characters = [\"Elizabeth\", \"Emma\", \"Elinor\", \"Marianne\", \"Anne\", \"Catherine\", \"Fanny\"]\n",
    "characters"
   ]
  },
  {
   "cell_type": "code",
   "execution_count": null,
   "metadata": {
    "collapsed": true
   },
   "outputs": [],
   "source": [
    "mixed = [1, \"Elizabeth\", 5, \"Fanny\"]\n",
    "mixed"
   ]
  },
  {
   "cell_type": "markdown",
   "metadata": {},
   "source": [
    "**Find the length of a list**"
   ]
  },
  {
   "cell_type": "code",
   "execution_count": null,
   "metadata": {
    "collapsed": true
   },
   "outputs": [],
   "source": [
    "odds = [1, 3, 5, 7]\n",
    "len(odds)"
   ]
  },
  {
   "cell_type": "markdown",
   "metadata": {},
   "source": [
    "Like strings, lists can be **indexed** and **sliced**. What we learned about indexing and slicing strings can be applied to lists as well."
   ]
  },
  {
   "cell_type": "code",
   "execution_count": null,
   "metadata": {
    "collapsed": true
   },
   "outputs": [],
   "source": [
    "# indexing returns an item\n",
    "print(odds[0])\n",
    "\n",
    "# slicing returns a list\n",
    "print(odds[0:2])"
   ]
  },
  {
   "cell_type": "markdown",
   "metadata": {},
   "source": [
    "**Concatenate list**"
   ]
  },
  {
   "cell_type": "code",
   "execution_count": null,
   "metadata": {
    "collapsed": true
   },
   "outputs": [],
   "source": [
    "odds = odds + [9, 11, 13]\n",
    "odds"
   ]
  },
  {
   "cell_type": "markdown",
   "metadata": {},
   "source": [
    "Lists are **mutable**, which means we can change their content."
   ]
  },
  {
   "cell_type": "code",
   "execution_count": null,
   "metadata": {
    "collapsed": true
   },
   "outputs": [],
   "source": [
    "odds = [1, 3, 5, 7]\n",
    "odds[2] = 6\n",
    "odds"
   ]
  },
  {
   "cell_type": "code",
   "execution_count": null,
   "metadata": {
    "collapsed": true
   },
   "outputs": [],
   "source": [
    "odds = [1, 3, 5, 7]\n",
    "odds[2:4] = [15, 17]\n",
    "odds"
   ]
  },
  {
   "cell_type": "code",
   "execution_count": null,
   "metadata": {
    "collapsed": true
   },
   "outputs": [],
   "source": [
    "characters = [\"Elizabeth\", \"Emma\", \"Elinor\", \"Marianne\", \"Anne\", \"Catherine\", \"Fanny\"]\n",
    "\n",
    "# replace items in position 0 (included) to 2 (excluded)\n",
    "characters[0:2] = [\"Darcy\", \"Knightley\"]\n",
    "print(characters)"
   ]
  },
  {
   "cell_type": "code",
   "execution_count": null,
   "metadata": {
    "collapsed": true
   },
   "outputs": [],
   "source": [
    "characters = [\"Elizabeth\", \"Emma\", \"Elinor\", \"Marianne\", \"Anne\", \"Catherine\", \"Fanny\"]\n",
    "\n",
    "# remove items in position 3 (included) to 5 (excluded)\n",
    "characters[3:5] = []\n",
    "print(characters)"
   ]
  },
  {
   "cell_type": "code",
   "execution_count": null,
   "metadata": {
    "collapsed": true
   },
   "outputs": [],
   "source": [
    "characters = [\"Elizabeth\", \"Emma\", \"Elinor\", \"Marianne\", \"Anne\", \"Catherine\", \"Fanny\"]\n",
    "\n",
    "# clear the list by replacing all the elements with an empty list\n",
    "characters[:] = []\n",
    "print(characters)"
   ]
  },
  {
   "cell_type": "markdown",
   "metadata": {},
   "source": [
    "**Nested lists**\n",
    "\n",
    "We can create a list that contains other lists."
   ]
  },
  {
   "cell_type": "code",
   "execution_count": null,
   "metadata": {
    "collapsed": true
   },
   "outputs": [],
   "source": [
    "odds = [1, 3, 5, 7]\n",
    "characters = [\"Elizabeth\", \"Emma\", \"Fanny\"]\n",
    "mixed = [odds, characters]\n",
    "print(mixed)"
   ]
  },
  {
   "cell_type": "code",
   "execution_count": null,
   "metadata": {
    "collapsed": true
   },
   "outputs": [],
   "source": [
    "# get the second item in the list mixed\n",
    "print(mixed[1])"
   ]
  },
  {
   "cell_type": "code",
   "execution_count": null,
   "metadata": {
    "collapsed": true
   },
   "outputs": [],
   "source": [
    "# get the second item in the second item in the list mixed\n",
    "print(mixed[1][1])"
   ]
  },
  {
   "cell_type": "markdown",
   "metadata": {},
   "source": [
    "### List methods"
   ]
  },
  {
   "cell_type": "markdown",
   "metadata": {},
   "source": [
    "Like strings, lists also have **methods**."
   ]
  },
  {
   "cell_type": "markdown",
   "metadata": {},
   "source": [
    "Add a value to the end of the list"
   ]
  },
  {
   "cell_type": "code",
   "execution_count": null,
   "metadata": {
    "collapsed": true
   },
   "outputs": [],
   "source": [
    "odds = [1, 3, 5, 7]\n",
    "odds.append(15)\n",
    "odds"
   ]
  },
  {
   "cell_type": "markdown",
   "metadata": {},
   "source": [
    "We will learn more in the next lesson!"
   ]
  },
  {
   "cell_type": "markdown",
   "metadata": {},
   "source": [
    "## Technical notes"
   ]
  },
  {
   "cell_type": "markdown",
   "metadata": {},
   "source": [
    "This workshop is taught using Python and Jupyter Notebook on the Interactive Data Analytics Service (IDAS) from ITS - Research Services at the University of Iowa.\n",
    "\n",
    "Access to this workshop instance (computing environment) will end at **5 p.m. on Monday, October 31, 2022**.\n",
    "\n",
    "**Please make sure to download all notebooks and files from this workshop instance to your personal computer**. Data are not backed up on this workshop instance. See instructions below to download a notebook from IDAS to your computer.\n",
    "\n",
    "Current University of Iowa members can request a **free** IDAS account for research use. For more information, see https://wiki.uiowa.edu/display/hpcdocs/Requesting+An+IDAS+Account."
   ]
  },
  {
   "cell_type": "markdown",
   "metadata": {},
   "source": [
    "## Download notebooks to your computer"
   ]
  },
  {
   "cell_type": "markdown",
   "metadata": {},
   "source": [
    "* Save any notebook that is running. Press **Ctrl + s** (Windows) or **Command + s** (Mac).\n",
    "* In the menu bar in Jupyter Lab, click **File**, then click **Download** in the drop-down menu."
   ]
  }
 ],
 "metadata": {
  "kernelspec": {
   "display_name": "Python 3",
   "language": "python",
   "name": "python3"
  },
  "language_info": {
   "codemirror_mode": {
    "name": "ipython",
    "version": 3
   },
   "file_extension": ".py",
   "mimetype": "text/x-python",
   "name": "python",
   "nbconvert_exporter": "python",
   "pygments_lexer": "ipython3",
   "version": "3.6.1"
  }
 },
 "nbformat": 4,
 "nbformat_minor": 5
}
